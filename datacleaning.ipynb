{
 "cells": [
  {
   "cell_type": "code",
   "execution_count": null,
   "metadata": {},
   "outputs": [],
   "source": [
    "import pandas as pd\n",
    "import matplotlib as mp \n",
    "import seaborn as sns"
   ]
  },
  {
   "cell_type": "code",
   "execution_count": null,
   "metadata": {},
   "outputs": [],
   "source": [
    "df = pd.read_csv(\"datasets/vacData.csv\")\n",
    "df.columns = ['YearWeek', 'Country', 'Denominator', 'DosesReceived',\n",
    "       'DosesExported', 'FirstDose', 'FirstDoseRefused', 'SecondDose',\n",
    "       'DoseAdditional1', 'DoseAdditional2', 'DoseAdditional3', 'UnknownDose',\n",
    "       'Region', 'TargetGroup', 'Vaccine', 'Population']\n",
    "df.drop(['UnknownDose','FirstDoseRefused','DoseAdditional1','DoseAdditional2','DoseAdditional3','Region'],axis='columns',inplace=True)\n",
    "df.head()"
   ]
  },
  {
   "attachments": {},
   "cell_type": "markdown",
   "metadata": {},
   "source": [
    "We open the first dataset and only keep the columns we plan to use "
   ]
  },
  {
   "cell_type": "code",
   "execution_count": null,
   "metadata": {},
   "outputs": [],
   "source": [
    "df.loc[df.Denominator.isna()]\n",
    "df.Denominator.isna().sum()/len(df)\n"
   ]
  },
  {
   "attachments": {},
   "cell_type": "markdown",
   "metadata": {},
   "source": [
    "The missing values in the Denominator column accounts for neaerly half of our dataframe (46%) so we shoudln't drop them or else we will loose too many values."
   ]
  },
  {
   "cell_type": "code",
   "execution_count": null,
   "metadata": {},
   "outputs": [],
   "source": [
    "missing_vaccine = df.Vaccine.isna()\n",
    "missing_vaccine.sum()/len(df)"
   ]
  },
  {
   "attachments": {},
   "cell_type": "markdown",
   "metadata": {},
   "source": [
    "This time the missing values are only a small fraction of the total so we can drop them without loosing much information."
   ]
  },
  {
   "cell_type": "code",
   "execution_count": null,
   "metadata": {},
   "outputs": [],
   "source": [
    "vrows_to_drop = df.loc[missing_vaccine].index\n",
    "df.drop(index=vrows_to_drop, inplace=True)\n",
    "df.head()"
   ]
  },
  {
   "attachments": {},
   "cell_type": "markdown",
   "metadata": {},
   "source": [
    "We want to drop the whole rows in order to not have missing values in the vaccine column so we locate the rows with the loc[] and index methods, then we use the drop method on the dataframe with the indexes that we specified earlier to drop the whole rows."
   ]
  },
  {
   "cell_type": "code",
   "execution_count": null,
   "metadata": {},
   "outputs": [],
   "source": [
    "missing_doses = df.loc[df.FirstDose == 0].loc[df.SecondDose == 0]\n",
    "drows_to_drop = missing_doses\n",
    "drows_to_drop"
   ]
  },
  {
   "cell_type": "code",
   "execution_count": null,
   "metadata": {},
   "outputs": [],
   "source": [
    "drows_to_drop = missing_doses.index #empty doses to drop\n",
    "df.drop(index=drows_to_drop, inplace=True)\n",
    "df"
   ]
  },
  {
   "attachments": {},
   "cell_type": "markdown",
   "metadata": {},
   "source": [
    "This time we have a lot of values involved in this operation but since they all are equal to 0 and it represents the number of people that are getting vaccinated then we can delete them because it doesn't provide any information."
   ]
  },
  {
   "cell_type": "code",
   "execution_count": null,
   "metadata": {},
   "outputs": [],
   "source": [
    "vaccines = ['VLA','UNK','SPU','SIN','NVX','MOD','JANSS','COM','BHACOV','BECNBG','AZ']\n",
    "valuesFirstDose =[]\n",
    "for i in range(len(vaccines)):\n",
    "    vac = df.Vaccine.str.contains(vaccines[i])\n",
    "    sum = df.FirstDose.loc[vac].sum()\n",
    "    valuesFirstDose.append(sum)\n",
    "valuesFirstDose"
   ]
  },
  {
   "cell_type": "code",
   "execution_count": null,
   "metadata": {},
   "outputs": [],
   "source": [
    "valuesSecondDose =[]\n",
    "for i in range(len(vaccines)):\n",
    "    vac = df.Vaccine.str.contains(vaccines[i])\n",
    "    sum = df.SecondDose.loc[vac].sum()\n",
    "    valuesSecondDose.append(sum)\n",
    "valuesSecondDose"
   ]
  },
  {
   "attachments": {},
   "cell_type": "markdown",
   "metadata": {},
   "source": [
    "Here we go through all the values in the First and Second dose columns and we sum all the values corresponding to each vaccine and we get 2 arrays with the sums indexed in the same order and length as the vaccines array so we can compute it into a dataframe to use for a graph on the website."
   ]
  },
  {
   "cell_type": "code",
   "execution_count": null,
   "metadata": {},
   "outputs": [],
   "source": [
    "df2 = pd.DataFrame({\n",
    "                    'Vaccine' : ['Valneva','Unknown','Sputnik','CoronaVac','Novavax','Moderna','Janssen','Pfizer','Bharat','BECNBG','AstraZeneca'],\n",
    "                    'FirstTotal': valuesFirstDose,\n",
    "                    'SecondTotal':valuesSecondDose,\n",
    "                    })\n",
    "df2"
   ]
  },
  {
   "cell_type": "code",
   "execution_count": null,
   "metadata": {},
   "outputs": [],
   "source": [
    "countries = []\n",
    "for country in df.Country.unique():\n",
    "    countries.append(country)\n",
    "valuesCountriesFirst =[]\n",
    "for i in range(len(countries)):\n",
    "    country = df.Country.str.contains(countries[i])\n",
    "    sum = df.FirstDose.loc[country].loc[df.TargetGroup.str.contains('ALL')].sum()\n",
    "    valuesCountriesFirst.append(sum)\n",
    "valuesCountriesFirst"
   ]
  },
  {
   "cell_type": "code",
   "execution_count": null,
   "metadata": {},
   "outputs": [],
   "source": [
    "valuesCountriesSecond =[]\n",
    "for i in range(len(countries)):\n",
    "    country = df.Country.str.contains(countries[i])\n",
    "    sum = df.SecondDose.loc[country].loc[df.TargetGroup.str.contains('ALL')].sum()\n",
    "    valuesCountriesSecond.append(sum)\n",
    "valuesCountriesSecond"
   ]
  },
  {
   "cell_type": "code",
   "execution_count": null,
   "metadata": {},
   "outputs": [],
   "source": [
    "df3 = pd.DataFrame({\n",
    "                    'Countries' : countries,\n",
    "                    'FirstTotal' : valuesCountriesFirst,\n",
    "                    'SecondTotal' : valuesCountriesSecond,\n",
    "                    })\n",
    "df3"
   ]
  },
  {
   "attachments": {},
   "cell_type": "markdown",
   "metadata": {},
   "source": [
    "Same thing as for the vaccine but this time for total number of vaccinated people by each country, we only sum the data where the target group is 'ALL' no not have some values counted twice."
   ]
  },
  {
   "cell_type": "code",
   "execution_count": null,
   "metadata": {},
   "outputs": [],
   "source": [
    "valuesDosesReceived =[]\n",
    "for i in range(len(countries)):\n",
    "    country = df.Country.str.contains(countries[i])\n",
    "    sum = df.DosesReceived.loc[country].sum()\n",
    "    valuesDosesReceived.append(sum)\n",
    "valuesDosesReceived"
   ]
  },
  {
   "cell_type": "code",
   "execution_count": null,
   "metadata": {},
   "outputs": [],
   "source": [
    "valuesDosesExported =[]\n",
    "for i in range(len(countries)):\n",
    "    country = df.Country.str.contains(countries[i])\n",
    "    sum = df.DosesExported.loc[country].sum()\n",
    "    valuesDosesExported.append(sum)\n",
    "valuesDosesExported"
   ]
  },
  {
   "cell_type": "code",
   "execution_count": null,
   "metadata": {},
   "outputs": [],
   "source": [
    "df4 = pd.DataFrame({\n",
    "                    'Countries' : countries,\n",
    "                    'ReceivedTotal' : valuesDosesReceived,\n",
    "                    'ExportedTotal' : valuesDosesExported,\n",
    "                    })\n",
    "df4"
   ]
  },
  {
   "attachments": {},
   "cell_type": "markdown",
   "metadata": {},
   "source": [
    "Here I did the same thing as I did for the vaccine dataframe, but for the Countries and the doses they exported and received."
   ]
  },
  {
   "cell_type": "code",
   "execution_count": null,
   "metadata": {},
   "outputs": [],
   "source": [
    "df.reset_index(drop=True, inplace=True)\n",
    "df"
   ]
  },
  {
   "cell_type": "code",
   "execution_count": null,
   "metadata": {},
   "outputs": [],
   "source": [
    "df.to_csv('datasets/vacDataClean.csv')\n",
    "df2.to_csv('datasets/vacTotalData.csv')\n",
    "df3.to_csv('datasets/totalCountry.csv')\n",
    "df4.to_csv('datasets/totalReceivedExported.csv')"
   ]
  },
  {
   "attachments": {},
   "cell_type": "markdown",
   "metadata": {},
   "source": [
    "Now that all the data cleaning is done, we reset the index of the main dataframe to not have index related issues and then we export all the dataframes to csv files to open in the website.py file."
   ]
  }
 ],
 "metadata": {
  "kernelspec": {
   "display_name": "Python 3",
   "language": "python",
   "name": "python3"
  },
  "language_info": {
   "codemirror_mode": {
    "name": "ipython",
    "version": 3
   },
   "file_extension": ".py",
   "mimetype": "text/x-python",
   "name": "python",
   "nbconvert_exporter": "python",
   "pygments_lexer": "ipython3",
   "version": "3.10.9"
  },
  "orig_nbformat": 4,
  "vscode": {
   "interpreter": {
    "hash": "76a8a47e61b9a84bfd778d8d927fb5c07bfed28895a30b54e142c8ff48e56df8"
   }
  }
 },
 "nbformat": 4,
 "nbformat_minor": 2
}
